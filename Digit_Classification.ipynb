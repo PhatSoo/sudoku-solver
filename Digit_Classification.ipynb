{
  "nbformat": 4,
  "nbformat_minor": 0,
  "metadata": {
    "colab": {
      "provenance": []
    },
    "kernelspec": {
      "name": "python3",
      "display_name": "Python 3"
    },
    "language_info": {
      "name": "python"
    }
  },
  "cells": [
    {
      "cell_type": "code",
      "source": [
        "import zipfile\n",
        "with zipfile.ZipFile(\"/content/myData.zip\") as zip_ref:\n",
        "  zip_ref.extractall(\"/content/\")"
      ],
      "metadata": {
        "id": "xBrpsrxKRQ-b"
      },
      "execution_count": null,
      "outputs": []
    },
    {
      "cell_type": "markdown",
      "source": [
        "**IMOPORT THƯ VIỆN CẦN THIẾT**"
      ],
      "metadata": {
        "id": "yqYKu21qUh4S"
      }
    },
    {
      "cell_type": "code",
      "source": [
        "import numpy as np\n",
        "import cv2\n",
        "import os\n",
        "import tensorflow as tf\n",
        "from sklearn.model_selection import train_test_split\n",
        "import matplotlib.pyplot as plt\n",
        "from google.colab.patches import cv2_imshow\n",
        "from keras.preprocessing.image import ImageDataGenerator\n",
        "from keras.utils.np_utils import to_categorical\n",
        "from keras.models import Sequential\n",
        "from keras.layers import Dense\n",
        "from keras.optimizers import Adam\n",
        "from keras.layers import Dropout,Flatten\n",
        "from keras.layers.convolutional import Conv2D,MaxPooling2D\n",
        "\n",
        "path = './myData/'"
      ],
      "metadata": {
        "id": "Gz_5p81qUe1g"
      },
      "execution_count": null,
      "outputs": []
    },
    {
      "cell_type": "markdown",
      "source": [
        "**IMPORTING DATA/IMAGES FROM FOLDERS **"
      ],
      "metadata": {
        "id": "2YuQ5FJ5U24d"
      }
    },
    {
      "cell_type": "code",
      "source": [
        "images = []\n",
        "classID = []\n",
        "categories = ['0','1','2','3','4','5','6','7','8','9']\n",
        "for x in sorted(os.listdir(path)):\n",
        "  myPicList = os.listdir(path+\"/\"+str(x))\n",
        "  for y in myPicList:\n",
        "    curImg = cv2.imread(path+\"/\"+str(x)+\"/\"+y)\n",
        "    curImg = cv2.resize(curImg,(32,32))\n",
        "    images.append(curImg)\n",
        "    classID.append(categories.index(x))\n",
        "  print(x,end= \" \")\n",
        "print(\" \")\n",
        "print(\"Total Images in Images List = \",len(images))\n",
        "print(\"Total IDS in classID List= \",len(classID))"
      ],
      "metadata": {
        "colab": {
          "base_uri": "https://localhost:8080/"
        },
        "id": "KXfNhLTHUt1n",
        "outputId": "8ad64948-d1a7-4034-a84d-bbf2698d8d49"
      },
      "execution_count": null,
      "outputs": [
        {
          "output_type": "stream",
          "name": "stdout",
          "text": [
            "0 1 2 3 4 5 6 7 8 9  \n",
            "Total Images in Images List =  10160\n",
            "Total IDS in classID List=  10160\n"
          ]
        }
      ]
    },
    {
      "cell_type": "markdown",
      "source": [
        "**CONVERT TO NUMPY ARRAY**"
      ],
      "metadata": {
        "id": "_20x5F1oWGIs"
      }
    },
    {
      "cell_type": "code",
      "source": [
        "images = np.array(images)\n",
        "classID = np.array(classID)\n",
        "print(images.shape)"
      ],
      "metadata": {
        "colab": {
          "base_uri": "https://localhost:8080/"
        },
        "id": "MuwccIEfWI4q",
        "outputId": "a023da1e-82a6-405b-c285-72eb4b920820"
      },
      "execution_count": null,
      "outputs": [
        {
          "output_type": "stream",
          "name": "stdout",
          "text": [
            "(10160, 32, 32, 3)\n"
          ]
        }
      ]
    },
    {
      "cell_type": "code",
      "source": [
        "X_train,X_test,y_train,y_test = train_test_split(images,classID,test_size=0.2)\n",
        "print(X_train.shape)\n",
        "print(X_test.shape)\n",
        "print(y_train.shape)\n",
        "print(y_test.shape)"
      ],
      "metadata": {
        "colab": {
          "base_uri": "https://localhost:8080/"
        },
        "id": "7yrpP18MWPzq",
        "outputId": "99caa28b-a770-4540-c80c-a9430cb8e21d"
      },
      "execution_count": null,
      "outputs": [
        {
          "output_type": "stream",
          "name": "stdout",
          "text": [
            "(8128, 32, 32, 3)\n",
            "(2032, 32, 32, 3)\n",
            "(8128,)\n",
            "(2032,)\n"
          ]
        }
      ]
    },
    {
      "cell_type": "markdown",
      "source": [
        "**PLOT BAR CHART FOR DISTRIBUTION OF IMAGES**"
      ],
      "metadata": {
        "id": "cCxozuw1WdKp"
      }
    },
    {
      "cell_type": "code",
      "source": [
        "numOfSamples= []\n",
        "for x in range(0,10):\n",
        "    numOfSamples.append(len(np.where(y_train==x)[0]))\n",
        "print(numOfSamples)\n",
        "#\n",
        "plt.figure(figsize=(10,5))\n",
        "plt.bar(range(0,10),numOfSamples)\n",
        "plt.title(\"No of Images for each Class\")\n",
        "plt.xlabel(\"Class ID\")\n",
        "plt.ylabel(\"Number of Images\")\n",
        "plt.show()"
      ],
      "metadata": {
        "colab": {
          "base_uri": "https://localhost:8080/",
          "height": 368
        },
        "id": "Rrp9_n3AWcyj",
        "outputId": "edfe460b-d2af-4770-ed24-c9fdf62298c1"
      },
      "execution_count": null,
      "outputs": [
        {
          "output_type": "stream",
          "name": "stdout",
          "text": [
            "[809, 835, 824, 790, 809, 803, 798, 825, 816, 819]\n"
          ]
        },
        {
          "output_type": "display_data",
          "data": {
            "text/plain": [
              "<Figure size 720x360 with 1 Axes>"
            ],
            "image/png": "[encoded data removed]"
          },
          "metadata": {
            "needs_background": "light"
          }
        }
      ]
    },
    {
      "cell_type": "markdown",
      "source": [
        "**PREPOSSESSING FUNCTION FOR IMAGES FOR TRAINING**"
      ],
      "metadata": {
        "id": "kPGGq1RGZdOr"
      }
    },
    {
      "cell_type": "code",
      "source": [
        "def preProcessing(img):\n",
        "  img = cv2.cvtColor(img,cv2.COLOR_BGR2GRAY)\n",
        "  img = cv2.equalizeHist(img)\n",
        "  img = img/255\n",
        "  return img"
      ],
      "metadata": {
        "id": "3BAepKfmZe-f"
      },
      "execution_count": null,
      "outputs": []
    },
    {
      "cell_type": "code",
      "source": [
        "# img = preProcessing(X_train[30])\n",
        "# img = cv2.resize(img,(300,300))\n",
        "# cv2_imshow(img)\n",
        "# cv2_imshow(X_train[30])\n",
        "# # import sys\n",
        "# # np.set_printoptions(threshold=5)\n",
        "# # print(img)"
      ],
      "metadata": {
        "id": "V1C7GdbfZjrP"
      },
      "execution_count": null,
      "outputs": []
    },
    {
      "cell_type": "code",
      "source": [
        "X_train= np.array(list(map(preProcessing,X_train)))\n",
        "X_test= np.array(list(map(preProcessing,X_test)))"
      ],
      "metadata": {
        "id": "YOFzhQYEeDyw"
      },
      "execution_count": null,
      "outputs": []
    },
    {
      "cell_type": "code",
      "source": [
        "X_train = X_train.reshape(X_train.shape[0],X_train.shape[1],X_train.shape[2],1)\n",
        "X_test = X_test.reshape(X_test.shape[0],X_test.shape[1],X_test.shape[2],1)"
      ],
      "metadata": {
        "id": "JHmqSbjKeLn9"
      },
      "execution_count": null,
      "outputs": []
    },
    {
      "cell_type": "markdown",
      "source": [
        "**IMAGE AUGMENTATION**"
      ],
      "metadata": {
        "id": "UI61MBBveWSz"
      }
    },
    {
      "cell_type": "code",
      "source": [
        "dataGen = ImageDataGenerator(width_shift_range=0.1,\n",
        "                             height_shift_range=0.1,\n",
        "                             zoom_range=0.2,\n",
        "                             shear_range=0.1,\n",
        "                             rotation_range=10)"
      ],
      "metadata": {
        "id": "rz7b-Q_WeXJt"
      },
      "execution_count": null,
      "outputs": []
    },
    {
      "cell_type": "code",
      "source": [
        "x = tf.keras.utils.img_to_array(X_train[30])\n",
        "x = x.reshape((1,) + x.shape)\n",
        "\n",
        "i = 0\n",
        "for batch in dataGen.flow(x,batch_size=32,save_to_dir='preview',save_prefix='test',save_format='jpg'):\n",
        "  i += 1\n",
        "  if i > 10:\n",
        "    break"
      ],
      "metadata": {
        "id": "zFh8TpgDebK6"
      },
      "execution_count": null,
      "outputs": []
    },
    {
      "cell_type": "code",
      "source": [
        "# !rm -rf preview"
      ],
      "metadata": {
        "id": "CUQbAflaiYzJ"
      },
      "execution_count": null,
      "outputs": []
    },
    {
      "cell_type": "code",
      "source": [
        "dataGen.fit(X_train)"
      ],
      "metadata": {
        "id": "J70p9Ycekqeb"
      },
      "execution_count": null,
      "outputs": []
    },
    {
      "cell_type": "code",
      "source": [
        "y_train = to_categorical(y_train,10)\n",
        "y_test = to_categorical(y_test,10)"
      ],
      "metadata": {
        "id": "TbE_eXWppX4i"
      },
      "execution_count": null,
      "outputs": []
    },
    {
      "cell_type": "markdown",
      "source": [
        "**CREATING MODEL**"
      ],
      "metadata": {
        "id": "JeSLzd0QqS6m"
      }
    },
    {
      "cell_type": "code",
      "source": [
        "def myModel():\n",
        "    noOfFilters = 60\n",
        "    sizeOfFilter1 = (5,5)\n",
        "    sizeOfFilter2 = (3,3)\n",
        "    sizeOfPool = (2,2)\n",
        "    noOfNodes= 500\n",
        "\n",
        "    model = Sequential()\n",
        "    model.add((Conv2D(noOfFilters,sizeOfFilter1,input_shape=(32,\n",
        "                      32,1),activation='relu')))\n",
        "    model.add((Conv2D(noOfFilters, sizeOfFilter1, activation='relu')))\n",
        "    model.add(MaxPooling2D(pool_size=sizeOfPool))\n",
        "    model.add((Conv2D(noOfFilters//2, sizeOfFilter2, activation='relu')))\n",
        "    model.add((Conv2D(noOfFilters//2, sizeOfFilter2, activation='relu')))\n",
        "    model.add(MaxPooling2D(pool_size=sizeOfPool))\n",
        "    model.add(Dropout(0.5))\n",
        "\n",
        "    model.add(Flatten())\n",
        "    model.add(Dense(noOfNodes,activation='relu'))\n",
        "    model.add(Dropout(0.5))\n",
        "    model.add(Dense(10, activation='softmax'))\n",
        "\n",
        "    model.compile(Adam(lr=0.001),loss='categorical_crossentropy',metrics=['accuracy'])\n",
        "    return model"
      ],
      "metadata": {
        "id": "wUuuk3plqQxQ"
      },
      "execution_count": null,
      "outputs": []
    },
    {
      "cell_type": "code",
      "source": [
        "model = myModel()\n",
        "print(model.summary())"
      ],
      "metadata": {
        "colab": {
          "base_uri": "https://localhost:8080/"
        },
        "id": "GucaUMmIqYSA",
        "outputId": "cc260e91-2a06-40b7-ca80-795a3d333bff"
      },
      "execution_count": null,
      "outputs": [
        {
          "output_type": "stream",
          "name": "stdout",
          "text": [
            "Model: \"sequential_2\"\n",
            "_________________________________________________________________\n",
            " Layer (type)                Output Shape              Param #   \n",
            "=================================================================\n",
            " conv2d_8 (Conv2D)           (None, 28, 28, 60)        1560      \n",
            "                                                                 \n",
            " conv2d_9 (Conv2D)           (None, 24, 24, 60)        90060     \n",
            "                                                                 \n",
            " max_pooling2d_4 (MaxPooling  (None, 12, 12, 60)       0         \n",
            " 2D)                                                             \n",
            "                                                                 \n",
            " conv2d_10 (Conv2D)          (None, 10, 10, 30)        16230     \n",
            "                                                                 \n",
            " conv2d_11 (Conv2D)          (None, 8, 8, 30)          8130      \n",
            "                                                                 \n",
            " max_pooling2d_5 (MaxPooling  (None, 4, 4, 30)         0         \n",
            " 2D)                                                             \n",
            "                                                                 \n",
            " dropout_4 (Dropout)         (None, 4, 4, 30)          0         \n",
            "                                                                 \n",
            " flatten_2 (Flatten)         (None, 480)               0         \n",
            "                                                                 \n",
            " dense_4 (Dense)             (None, 500)               240500    \n",
            "                                                                 \n",
            " dropout_5 (Dropout)         (None, 500)               0         \n",
            "                                                                 \n",
            " dense_5 (Dense)             (None, 10)                5010      \n",
            "                                                                 \n",
            "=================================================================\n",
            "Total params: 361,490\n",
            "Trainable params: 361,490\n",
            "Non-trainable params: 0\n",
            "_________________________________________________________________\n",
            "None\n"
          ]
        }
      ]
    },
    {
      "cell_type": "markdown",
      "source": [
        "STARING TO TRAIN"
      ],
      "metadata": {
        "id": "m1lb4fpSqusf"
      }
    },
    {
      "cell_type": "code",
      "source": [
        "history = model.fit(dataGen.flow(X_train,y_train, batch_size=32),\n",
        "                                 epochs=100)"
      ],
      "metadata": {
        "colab": {
          "base_uri": "https://localhost:8080/"
        },
        "id": "_6FSwlTXqvEc",
        "outputId": "a622cadd-a1bb-4be4-cc1a-44c0bc94f847"
      },
      "execution_count": null,
      "outputs": [
        {
          "output_type": "stream",
          "name": "stdout",
          "text": [
            "Epoch 1/100\n",
            "254/254 [==============================] - 82s 319ms/step - loss: 1.0021 - accuracy: 0.6484\n",
            "Epoch 2/100\n",
            "254/254 [==============================] - 82s 323ms/step - loss: 0.3001 - accuracy: 0.9032\n",
            "Epoch 3/100\n",
            "254/254 [==============================] - 81s 319ms/step - loss: 0.2106 - accuracy: 0.9336\n",
            "Epoch 4/100\n",
            "254/254 [==============================] - 81s 317ms/step - loss: 0.1868 - accuracy: 0.9409\n",
            "Epoch 5/100\n",
            "254/254 [==============================] - 83s 325ms/step - loss: 0.1511 - accuracy: 0.9514\n",
            "Epoch 6/100\n",
            "254/254 [==============================] - 83s 326ms/step - loss: 0.1369 - accuracy: 0.9566\n",
            "Epoch 7/100\n",
            "254/254 [==============================] - 81s 319ms/step - loss: 0.1237 - accuracy: 0.9626\n",
            "Epoch 8/100\n",
            "254/254 [==============================] - 81s 318ms/step - loss: 0.1075 - accuracy: 0.9665\n",
            "Epoch 9/100\n",
            "254/254 [==============================] - 82s 323ms/step - loss: 0.0990 - accuracy: 0.9695\n",
            "Epoch 10/100\n",
            "254/254 [==============================] - 80s 316ms/step - loss: 0.1084 - accuracy: 0.9690\n",
            "Epoch 11/100\n",
            "254/254 [==============================] - 80s 315ms/step - loss: 0.0941 - accuracy: 0.9688\n",
            "Epoch 12/100\n",
            "254/254 [==============================] - 84s 332ms/step - loss: 0.0843 - accuracy: 0.9721\n",
            "Epoch 13/100\n",
            "254/254 [==============================] - 81s 317ms/step - loss: 0.0921 - accuracy: 0.9719\n",
            "Epoch 14/100\n",
            "254/254 [==============================] - 80s 316ms/step - loss: 0.0760 - accuracy: 0.9771\n",
            "Epoch 15/100\n",
            "254/254 [==============================] - 82s 323ms/step - loss: 0.0815 - accuracy: 0.9749\n",
            "Epoch 16/100\n",
            "254/254 [==============================] - 82s 323ms/step - loss: 0.0714 - accuracy: 0.9770\n",
            "Epoch 17/100\n",
            "254/254 [==============================] - 81s 318ms/step - loss: 0.0693 - accuracy: 0.9777\n",
            "Epoch 18/100\n",
            "254/254 [==============================] - 81s 317ms/step - loss: 0.0675 - accuracy: 0.9788\n",
            "Epoch 19/100\n",
            "254/254 [==============================] - 82s 322ms/step - loss: 0.0687 - accuracy: 0.9793\n",
            "Epoch 20/100\n",
            "254/254 [==============================] - 81s 319ms/step - loss: 0.0610 - accuracy: 0.9799\n",
            "Epoch 21/100\n",
            "254/254 [==============================] - 80s 316ms/step - loss: 0.0695 - accuracy: 0.9786\n",
            "Epoch 22/100\n",
            "254/254 [==============================] - 81s 321ms/step - loss: 0.0613 - accuracy: 0.9807\n",
            "Epoch 23/100\n",
            "254/254 [==============================] - 80s 315ms/step - loss: 0.0631 - accuracy: 0.9799\n",
            "Epoch 24/100\n",
            "254/254 [==============================] - 80s 314ms/step - loss: 0.0568 - accuracy: 0.9831\n",
            "Epoch 25/100\n",
            "254/254 [==============================] - 81s 319ms/step - loss: 0.0544 - accuracy: 0.9841\n",
            "Epoch 26/100\n",
            "254/254 [==============================] - 80s 314ms/step - loss: 0.0489 - accuracy: 0.9855\n",
            "Epoch 27/100\n",
            "254/254 [==============================] - 80s 314ms/step - loss: 0.0553 - accuracy: 0.9827\n",
            "Epoch 28/100\n",
            "254/254 [==============================] - 80s 315ms/step - loss: 0.0489 - accuracy: 0.9849\n",
            "Epoch 29/100\n",
            "254/254 [==============================] - 81s 319ms/step - loss: 0.0477 - accuracy: 0.9846\n",
            "Epoch 30/100\n",
            "254/254 [==============================] - 80s 313ms/step - loss: 0.0619 - accuracy: 0.9819\n",
            "Epoch 31/100\n",
            "254/254 [==============================] - 80s 314ms/step - loss: 0.0481 - accuracy: 0.9846\n",
            "Epoch 32/100\n",
            "254/254 [==============================] - 81s 319ms/step - loss: 0.0570 - accuracy: 0.9829\n",
            "Epoch 33/100\n",
            "254/254 [==============================] - 80s 314ms/step - loss: 0.0510 - accuracy: 0.9831\n",
            "Epoch 34/100\n",
            "254/254 [==============================] - 80s 314ms/step - loss: 0.0452 - accuracy: 0.9876\n",
            "Epoch 35/100\n",
            "254/254 [==============================] - 81s 319ms/step - loss: 0.0430 - accuracy: 0.9861\n",
            "Epoch 36/100\n",
            "254/254 [==============================] - 80s 315ms/step - loss: 0.0362 - accuracy: 0.9882\n",
            "Epoch 37/100\n",
            "254/254 [==============================] - 80s 315ms/step - loss: 0.0466 - accuracy: 0.9851\n",
            "Epoch 38/100\n",
            "254/254 [==============================] - 81s 321ms/step - loss: 0.0387 - accuracy: 0.9876\n",
            "Epoch 39/100\n",
            "254/254 [==============================] - 80s 316ms/step - loss: 0.0436 - accuracy: 0.9862\n",
            "Epoch 40/100\n",
            "254/254 [==============================] - 80s 315ms/step - loss: 0.0385 - accuracy: 0.9889\n",
            "Epoch 41/100\n",
            "254/254 [==============================] - 81s 320ms/step - loss: 0.0516 - accuracy: 0.9843\n",
            "Epoch 42/100\n",
            "254/254 [==============================] - 80s 315ms/step - loss: 0.0368 - accuracy: 0.9877\n",
            "Epoch 43/100\n",
            "254/254 [==============================] - 80s 313ms/step - loss: 0.0449 - accuracy: 0.9866\n",
            "Epoch 44/100\n",
            "254/254 [==============================] - 79s 313ms/step - loss: 0.0467 - accuracy: 0.9855\n",
            "Epoch 45/100\n",
            "254/254 [==============================] - 81s 319ms/step - loss: 0.0376 - accuracy: 0.9872\n",
            "Epoch 46/100\n",
            "254/254 [==============================] - 79s 312ms/step - loss: 0.0371 - accuracy: 0.9875\n",
            "Epoch 47/100\n",
            "254/254 [==============================] - 79s 313ms/step - loss: 0.0366 - accuracy: 0.9889\n",
            "Epoch 48/100\n",
            "254/254 [==============================] - 91s 357ms/step - loss: 0.0353 - accuracy: 0.9897\n",
            "Epoch 49/100\n",
            "254/254 [==============================] - 79s 312ms/step - loss: 0.0396 - accuracy: 0.9877\n",
            "Epoch 50/100\n",
            "254/254 [==============================] - 80s 313ms/step - loss: 0.0384 - accuracy: 0.9881\n",
            "Epoch 51/100\n",
            "254/254 [==============================] - 81s 319ms/step - loss: 0.0434 - accuracy: 0.9863\n",
            "Epoch 52/100\n",
            "254/254 [==============================] - 80s 314ms/step - loss: 0.0364 - accuracy: 0.9886\n",
            "Epoch 53/100\n",
            "254/254 [==============================] - 80s 314ms/step - loss: 0.0322 - accuracy: 0.9895\n",
            "Epoch 54/100\n",
            "254/254 [==============================] - 80s 313ms/step - loss: 0.0367 - accuracy: 0.9886\n",
            "Epoch 55/100\n",
            "254/254 [==============================] - 81s 319ms/step - loss: 0.0383 - accuracy: 0.9878\n",
            "Epoch 56/100\n",
            "254/254 [==============================] - 80s 316ms/step - loss: 0.0423 - accuracy: 0.9878\n",
            "Epoch 57/100\n",
            "254/254 [==============================] - 80s 315ms/step - loss: 0.0302 - accuracy: 0.9905\n",
            "Epoch 58/100\n",
            "254/254 [==============================] - 81s 320ms/step - loss: 0.0347 - accuracy: 0.9899\n",
            "Epoch 59/100\n",
            "254/254 [==============================] - 80s 315ms/step - loss: 0.0390 - accuracy: 0.9883\n",
            "Epoch 60/100\n",
            "254/254 [==============================] - 80s 316ms/step - loss: 0.0341 - accuracy: 0.9909\n",
            "Epoch 61/100\n",
            "254/254 [==============================] - 81s 320ms/step - loss: 0.0325 - accuracy: 0.9897\n",
            "Epoch 62/100\n",
            "254/254 [==============================] - 80s 315ms/step - loss: 0.0372 - accuracy: 0.9899\n",
            "Epoch 63/100\n",
            "254/254 [==============================] - 80s 314ms/step - loss: 0.0386 - accuracy: 0.9887\n",
            "Epoch 64/100\n",
            "254/254 [==============================] - 81s 320ms/step - loss: 0.0291 - accuracy: 0.9898\n",
            "Epoch 65/100\n",
            "254/254 [==============================] - 80s 315ms/step - loss: 0.0299 - accuracy: 0.9900\n",
            "Epoch 66/100\n",
            "254/254 [==============================] - 80s 315ms/step - loss: 0.0289 - accuracy: 0.9920\n",
            "Epoch 67/100\n",
            "254/254 [==============================] - 81s 320ms/step - loss: 0.0376 - accuracy: 0.9888\n",
            "Epoch 68/100\n",
            "254/254 [==============================] - 80s 315ms/step - loss: 0.0281 - accuracy: 0.9914\n",
            "Epoch 69/100\n",
            "254/254 [==============================] - 80s 315ms/step - loss: 0.0369 - accuracy: 0.9881\n",
            "Epoch 70/100\n",
            "254/254 [==============================] - 80s 315ms/step - loss: 0.0251 - accuracy: 0.9935\n",
            "Epoch 71/100\n",
            "254/254 [==============================] - 80s 317ms/step - loss: 0.0296 - accuracy: 0.9910\n",
            "Epoch 72/100\n",
            "254/254 [==============================] - 80s 315ms/step - loss: 0.0237 - accuracy: 0.9931\n",
            "Epoch 73/100\n",
            "254/254 [==============================] - 79s 311ms/step - loss: 0.0407 - accuracy: 0.9898\n",
            "Epoch 74/100\n",
            "254/254 [==============================] - 81s 317ms/step - loss: 0.0343 - accuracy: 0.9886\n",
            "Epoch 75/100\n",
            "254/254 [==============================] - 80s 315ms/step - loss: 0.0366 - accuracy: 0.9886\n",
            "Epoch 76/100\n",
            "254/254 [==============================] - 80s 315ms/step - loss: 0.0303 - accuracy: 0.9911\n",
            "Epoch 77/100\n",
            "254/254 [==============================] - 81s 318ms/step - loss: 0.0249 - accuracy: 0.9921\n",
            "Epoch 78/100\n",
            "254/254 [==============================] - 80s 314ms/step - loss: 0.0379 - accuracy: 0.9899\n",
            "Epoch 79/100\n",
            "254/254 [==============================] - 80s 313ms/step - loss: 0.0318 - accuracy: 0.9897\n",
            "Epoch 80/100\n",
            "254/254 [==============================] - 84s 330ms/step - loss: 0.0344 - accuracy: 0.9895\n",
            "Epoch 81/100\n",
            "254/254 [==============================] - 80s 314ms/step - loss: 0.0335 - accuracy: 0.9905\n",
            "Epoch 82/100\n",
            "254/254 [==============================] - 80s 315ms/step - loss: 0.0321 - accuracy: 0.9906\n",
            "Epoch 83/100\n",
            "254/254 [==============================] - 80s 315ms/step - loss: 0.0313 - accuracy: 0.9895\n",
            "Epoch 84/100\n",
            "254/254 [==============================] - 80s 314ms/step - loss: 0.0347 - accuracy: 0.9893\n",
            "Epoch 85/100\n",
            "254/254 [==============================] - 80s 314ms/step - loss: 0.0296 - accuracy: 0.9922\n",
            "Epoch 86/100\n",
            "254/254 [==============================] - 81s 318ms/step - loss: 0.0249 - accuracy: 0.9931\n",
            "Epoch 87/100\n",
            "254/254 [==============================] - 80s 314ms/step - loss: 0.0279 - accuracy: 0.9915\n",
            "Epoch 88/100\n",
            "254/254 [==============================] - 80s 314ms/step - loss: 0.0289 - accuracy: 0.9924\n",
            "Epoch 89/100\n",
            "254/254 [==============================] - 80s 314ms/step - loss: 0.0325 - accuracy: 0.9906\n",
            "Epoch 90/100\n",
            "254/254 [==============================] - 80s 314ms/step - loss: 0.0306 - accuracy: 0.9911\n",
            "Epoch 91/100\n",
            "254/254 [==============================] - 80s 314ms/step - loss: 0.0329 - accuracy: 0.9914\n",
            "Epoch 92/100\n",
            "254/254 [==============================] - 81s 320ms/step - loss: 0.0275 - accuracy: 0.9921\n",
            "Epoch 93/100\n",
            "254/254 [==============================] - 80s 316ms/step - loss: 0.0280 - accuracy: 0.9920\n",
            "Epoch 94/100\n",
            "254/254 [==============================] - 80s 315ms/step - loss: 0.0341 - accuracy: 0.9898\n",
            "Epoch 95/100\n",
            "254/254 [==============================] - 81s 319ms/step - loss: 0.0286 - accuracy: 0.9931\n",
            "Epoch 96/100\n",
            "254/254 [==============================] - 80s 316ms/step - loss: 0.0363 - accuracy: 0.9902\n",
            "Epoch 97/100\n",
            "254/254 [==============================] - 80s 315ms/step - loss: 0.0311 - accuracy: 0.9927\n",
            "Epoch 98/100\n",
            "254/254 [==============================] - 81s 320ms/step - loss: 0.0274 - accuracy: 0.9920\n",
            "Epoch 99/100\n",
            "254/254 [==============================] - 80s 315ms/step - loss: 0.0245 - accuracy: 0.9925\n",
            "Epoch 100/100\n",
            "254/254 [==============================] - 80s 314ms/step - loss: 0.0244 - accuracy: 0.9924\n"
          ]
        }
      ]
    },
    {
      "cell_type": "markdown",
      "source": [
        "**PLOT THE RESULTS**"
      ],
      "metadata": {
        "id": "D1I2tCsz7Lxu"
      }
    },
    {
      "cell_type": "code",
      "source": [
        "# plt.figure(1)\n",
        "# plt.plot(history.history['loss'])\n",
        "# plt.plot(history.history['val_loss'])\n",
        "# plt.legend(['training','validation'])\n",
        "# plt.title('Loss')\n",
        "# plt.xlabel('epoch')\n",
        "# plt.figure(2)\n",
        "# plt.plot(history.history['accuracy'])\n",
        "# plt.plot(history.history['val_accuracy'])\n",
        "# plt.legend(['training','validation'])\n",
        "# plt.title('Accuracy')\n",
        "# plt.xlabel('epoch')\n",
        "# plt.show()"
      ],
      "metadata": {
        "id": "k_Vkc5iv7OA9"
      },
      "execution_count": null,
      "outputs": []
    },
    {
      "cell_type": "markdown",
      "source": [
        "**EVALUATE USING TEST IMAGES**"
      ],
      "metadata": {
        "id": "RAhU1ugD7Qd2"
      }
    },
    {
      "cell_type": "code",
      "source": [
        "score = model.evaluate(X_test,y_test,verbose=0)\n",
        "print('Test Score = ',score[0])\n",
        "print('Test Accuracy =', score[1])"
      ],
      "metadata": {
        "colab": {
          "base_uri": "https://localhost:8080/"
        },
        "id": "YVaoNLha7RGg",
        "outputId": "bf0a4de4-80cd-411c-d44e-2aa591f1b28d"
      },
      "execution_count": null,
      "outputs": [
        {
          "output_type": "stream",
          "name": "stdout",
          "text": [
            "Test Score =  0.008358064107596874\n",
            "Test Accuracy = 0.9965550899505615\n"
          ]
        }
      ]
    },
    {
      "cell_type": "code",
      "source": [
        "model.save('Digits.h5') #Save model"
      ],
      "metadata": {
        "id": "0uFyU3Fr7VrF"
      },
      "execution_count": null,
      "outputs": []
    }
  ]
}